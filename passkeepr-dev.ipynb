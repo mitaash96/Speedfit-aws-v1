{
 "cells": [
  {
   "cell_type": "code",
   "execution_count": 11,
   "metadata": {},
   "outputs": [],
   "source": [
    "# Requirements\n",
    "import time as T\n",
    "import hashlib as H\n",
    "import json as J"
   ]
  },
  {
   "cell_type": "code",
   "execution_count": 43,
   "metadata": {},
   "outputs": [],
   "source": [
    "assets = {\n",
    "    'punc' : '@#$%!&'\n",
    "}"
   ]
  },
  {
   "cell_type": "code",
   "execution_count": 23,
   "metadata": {},
   "outputs": [],
   "source": [
    "def get_hex(key: str, l: int):\n",
    "    hx = H.shake_256(key.encode()).hexdigest(l//2)\n",
    "    return hx"
   ]
  },
  {
   "cell_type": "code",
   "execution_count": 49,
   "metadata": {},
   "outputs": [],
   "source": [
    "def assign_punc(hx:str):\n",
    "    ind = [hx.index(_) for _ in hx if _.isnumeric()][0]\n",
    "    hx = [_ for _ in hx]\n",
    "    hx[ind] = assets['punc'][int(hx[ind])-1] if int(hx[ind])<=8 else assets['punc'][-1]\n",
    "    hx = ''.join(hx)\n",
    "    return hx"
   ]
  },
  {
   "cell_type": "code",
   "execution_count": 53,
   "metadata": {},
   "outputs": [],
   "source": [
    "def get_new_pass(caps = True, punc = True, lconst = True):\n",
    "    master_key = input('Enter master password: ')\n",
    "    pass_len = int(input('Enter password length: ')) if lconst else 6\n",
    "    ts = T.time()\n",
    "    p = get_hex(key = f'{master_key}{ts}', l = pass_len)\n",
    "    if caps: p = p.upper()\n",
    "    if punc: p = assign_punc(p)\n",
    "    return p,ts\n"
   ]
  },
  {
   "cell_type": "code",
   "execution_count": null,
   "metadata": {},
   "outputs": [],
   "source": [
    "def main():\n",
    "    get_new_pass(lconst= False)"
   ]
  },
  {
   "cell_type": "code",
   "execution_count": null,
   "metadata": {},
   "outputs": [],
   "source": []
  }
 ],
 "metadata": {
  "kernelspec": {
   "display_name": "passKeepr",
   "language": "python",
   "name": "python3"
  },
  "language_info": {
   "codemirror_mode": {
    "name": "ipython",
    "version": 3
   },
   "file_extension": ".py",
   "mimetype": "text/x-python",
   "name": "python",
   "nbconvert_exporter": "python",
   "pygments_lexer": "ipython3",
   "version": "3.10.8"
  },
  "orig_nbformat": 4,
  "vscode": {
   "interpreter": {
    "hash": "05cab5f39849c8de417ff1dc0e23645c8cf3821592fc8c8bb619eae3a2bdaa58"
   }
  }
 },
 "nbformat": 4,
 "nbformat_minor": 2
}
